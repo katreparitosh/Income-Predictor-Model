{
 "cells": [
  {
   "cell_type": "code",
   "execution_count": 30,
   "metadata": {},
   "outputs": [],
   "source": [
    "import pandas as pd\n",
    "import numpy as np\n",
    "% matplotlib inline\n",
    "from matplotlib import pyplot as plt\n",
    "import seaborn as sns"
   ]
  },
  {
   "cell_type": "markdown",
   "metadata": {},
   "source": [
    "<a id = 'Data'></a>\n",
    "## Get the Data"
   ]
  },
  {
   "cell_type": "code",
   "execution_count": 31,
   "metadata": {},
   "outputs": [
    {
     "name": "stdout",
     "output_type": "stream",
     "text": [
      "Number of Observations in dataset: (32561, 15)\n"
     ]
    },
    {
     "data": {
      "text/html": [
       "<div>\n",
       "<style scoped>\n",
       "    .dataframe tbody tr th:only-of-type {\n",
       "        vertical-align: middle;\n",
       "    }\n",
       "\n",
       "    .dataframe tbody tr th {\n",
       "        vertical-align: top;\n",
       "    }\n",
       "\n",
       "    .dataframe thead th {\n",
       "        text-align: right;\n",
       "    }\n",
       "</style>\n",
       "<table border=\"1\" class=\"dataframe\">\n",
       "  <thead>\n",
       "    <tr style=\"text-align: right;\">\n",
       "      <th></th>\n",
       "      <th>age</th>\n",
       "      <th>workclass</th>\n",
       "      <th>fnlwgt</th>\n",
       "      <th>education</th>\n",
       "      <th>education.num</th>\n",
       "      <th>marital.status</th>\n",
       "      <th>occupation</th>\n",
       "      <th>relationship</th>\n",
       "      <th>race</th>\n",
       "      <th>sex</th>\n",
       "      <th>capital.gain</th>\n",
       "      <th>capital.loss</th>\n",
       "      <th>hours.per.week</th>\n",
       "      <th>native.country</th>\n",
       "      <th>income</th>\n",
       "    </tr>\n",
       "  </thead>\n",
       "  <tbody>\n",
       "    <tr>\n",
       "      <th>0</th>\n",
       "      <td>90</td>\n",
       "      <td>?</td>\n",
       "      <td>77053</td>\n",
       "      <td>HS-grad</td>\n",
       "      <td>9</td>\n",
       "      <td>Widowed</td>\n",
       "      <td>?</td>\n",
       "      <td>Not-in-family</td>\n",
       "      <td>White</td>\n",
       "      <td>Female</td>\n",
       "      <td>0</td>\n",
       "      <td>4356</td>\n",
       "      <td>40</td>\n",
       "      <td>United-States</td>\n",
       "      <td>&lt;=50K</td>\n",
       "    </tr>\n",
       "    <tr>\n",
       "      <th>1</th>\n",
       "      <td>82</td>\n",
       "      <td>Private</td>\n",
       "      <td>132870</td>\n",
       "      <td>HS-grad</td>\n",
       "      <td>9</td>\n",
       "      <td>Widowed</td>\n",
       "      <td>Exec-managerial</td>\n",
       "      <td>Not-in-family</td>\n",
       "      <td>White</td>\n",
       "      <td>Female</td>\n",
       "      <td>0</td>\n",
       "      <td>4356</td>\n",
       "      <td>18</td>\n",
       "      <td>United-States</td>\n",
       "      <td>&lt;=50K</td>\n",
       "    </tr>\n",
       "    <tr>\n",
       "      <th>2</th>\n",
       "      <td>66</td>\n",
       "      <td>?</td>\n",
       "      <td>186061</td>\n",
       "      <td>Some-college</td>\n",
       "      <td>10</td>\n",
       "      <td>Widowed</td>\n",
       "      <td>?</td>\n",
       "      <td>Unmarried</td>\n",
       "      <td>Black</td>\n",
       "      <td>Female</td>\n",
       "      <td>0</td>\n",
       "      <td>4356</td>\n",
       "      <td>40</td>\n",
       "      <td>United-States</td>\n",
       "      <td>&lt;=50K</td>\n",
       "    </tr>\n",
       "    <tr>\n",
       "      <th>3</th>\n",
       "      <td>54</td>\n",
       "      <td>Private</td>\n",
       "      <td>140359</td>\n",
       "      <td>7th-8th</td>\n",
       "      <td>4</td>\n",
       "      <td>Divorced</td>\n",
       "      <td>Machine-op-inspct</td>\n",
       "      <td>Unmarried</td>\n",
       "      <td>White</td>\n",
       "      <td>Female</td>\n",
       "      <td>0</td>\n",
       "      <td>3900</td>\n",
       "      <td>40</td>\n",
       "      <td>United-States</td>\n",
       "      <td>&lt;=50K</td>\n",
       "    </tr>\n",
       "    <tr>\n",
       "      <th>4</th>\n",
       "      <td>41</td>\n",
       "      <td>Private</td>\n",
       "      <td>264663</td>\n",
       "      <td>Some-college</td>\n",
       "      <td>10</td>\n",
       "      <td>Separated</td>\n",
       "      <td>Prof-specialty</td>\n",
       "      <td>Own-child</td>\n",
       "      <td>White</td>\n",
       "      <td>Female</td>\n",
       "      <td>0</td>\n",
       "      <td>3900</td>\n",
       "      <td>40</td>\n",
       "      <td>United-States</td>\n",
       "      <td>&lt;=50K</td>\n",
       "    </tr>\n",
       "  </tbody>\n",
       "</table>\n",
       "</div>"
      ],
      "text/plain": [
       "   age workclass  fnlwgt     education  education.num marital.status  \\\n",
       "0   90         ?   77053       HS-grad              9        Widowed   \n",
       "1   82   Private  132870       HS-grad              9        Widowed   \n",
       "2   66         ?  186061  Some-college             10        Widowed   \n",
       "3   54   Private  140359       7th-8th              4       Divorced   \n",
       "4   41   Private  264663  Some-college             10      Separated   \n",
       "\n",
       "          occupation   relationship   race     sex  capital.gain  \\\n",
       "0                  ?  Not-in-family  White  Female             0   \n",
       "1    Exec-managerial  Not-in-family  White  Female             0   \n",
       "2                  ?      Unmarried  Black  Female             0   \n",
       "3  Machine-op-inspct      Unmarried  White  Female             0   \n",
       "4     Prof-specialty      Own-child  White  Female             0   \n",
       "\n",
       "   capital.loss  hours.per.week native.country income  \n",
       "0          4356              40  United-States  <=50K  \n",
       "1          4356              18  United-States  <=50K  \n",
       "2          4356              40  United-States  <=50K  \n",
       "3          3900              40  United-States  <=50K  \n",
       "4          3900              40  United-States  <=50K  "
      ]
     },
     "execution_count": 31,
     "metadata": {},
     "output_type": "execute_result"
    }
   ],
   "source": [
    "adult_df = pd.read_csv('A:\\\\Data Analysis Jupyter\\\\Adult-Census\\\\adult.csv')\n",
    "print(\"Number of Observations in dataset:\", adult_df.shape)\n",
    "\n",
    "adult_df.head()"
   ]
  },
  {
   "cell_type": "code",
   "execution_count": 32,
   "metadata": {},
   "outputs": [
    {
     "name": "stdout",
     "output_type": "stream",
     "text": [
      "<class 'pandas.core.frame.DataFrame'>\n",
      "RangeIndex: 32561 entries, 0 to 32560\n",
      "Data columns (total 15 columns):\n",
      "age               32561 non-null int64\n",
      "workclass         32561 non-null object\n",
      "fnlwgt            32561 non-null int64\n",
      "education         32561 non-null object\n",
      "education.num     32561 non-null int64\n",
      "marital.status    32561 non-null object\n",
      "occupation        32561 non-null object\n",
      "relationship      32561 non-null object\n",
      "race              32561 non-null object\n",
      "sex               32561 non-null object\n",
      "capital.gain      32561 non-null int64\n",
      "capital.loss      32561 non-null int64\n",
      "hours.per.week    32561 non-null int64\n",
      "native.country    32561 non-null object\n",
      "income            32561 non-null object\n",
      "dtypes: int64(6), object(9)\n",
      "memory usage: 3.7+ MB\n"
     ]
    }
   ],
   "source": [
    "adult_df.info()"
   ]
  },
  {
   "cell_type": "code",
   "execution_count": 33,
   "metadata": {},
   "outputs": [
    {
     "data": {
      "text/html": [
       "<div>\n",
       "<style scoped>\n",
       "    .dataframe tbody tr th:only-of-type {\n",
       "        vertical-align: middle;\n",
       "    }\n",
       "\n",
       "    .dataframe tbody tr th {\n",
       "        vertical-align: top;\n",
       "    }\n",
       "\n",
       "    .dataframe thead th {\n",
       "        text-align: right;\n",
       "    }\n",
       "</style>\n",
       "<table border=\"1\" class=\"dataframe\">\n",
       "  <thead>\n",
       "    <tr style=\"text-align: right;\">\n",
       "      <th></th>\n",
       "      <th>age</th>\n",
       "      <th>fnlwgt</th>\n",
       "      <th>education.num</th>\n",
       "      <th>capital.gain</th>\n",
       "      <th>capital.loss</th>\n",
       "      <th>hours.per.week</th>\n",
       "    </tr>\n",
       "  </thead>\n",
       "  <tbody>\n",
       "    <tr>\n",
       "      <th>count</th>\n",
       "      <td>32561.000000</td>\n",
       "      <td>3.256100e+04</td>\n",
       "      <td>32561.000000</td>\n",
       "      <td>32561.000000</td>\n",
       "      <td>32561.000000</td>\n",
       "      <td>32561.000000</td>\n",
       "    </tr>\n",
       "    <tr>\n",
       "      <th>mean</th>\n",
       "      <td>38.581647</td>\n",
       "      <td>1.897784e+05</td>\n",
       "      <td>10.080679</td>\n",
       "      <td>1077.648844</td>\n",
       "      <td>87.303830</td>\n",
       "      <td>40.437456</td>\n",
       "    </tr>\n",
       "    <tr>\n",
       "      <th>std</th>\n",
       "      <td>13.640433</td>\n",
       "      <td>1.055500e+05</td>\n",
       "      <td>2.572720</td>\n",
       "      <td>7385.292085</td>\n",
       "      <td>402.960219</td>\n",
       "      <td>12.347429</td>\n",
       "    </tr>\n",
       "    <tr>\n",
       "      <th>min</th>\n",
       "      <td>17.000000</td>\n",
       "      <td>1.228500e+04</td>\n",
       "      <td>1.000000</td>\n",
       "      <td>0.000000</td>\n",
       "      <td>0.000000</td>\n",
       "      <td>1.000000</td>\n",
       "    </tr>\n",
       "    <tr>\n",
       "      <th>25%</th>\n",
       "      <td>28.000000</td>\n",
       "      <td>1.178270e+05</td>\n",
       "      <td>9.000000</td>\n",
       "      <td>0.000000</td>\n",
       "      <td>0.000000</td>\n",
       "      <td>40.000000</td>\n",
       "    </tr>\n",
       "    <tr>\n",
       "      <th>50%</th>\n",
       "      <td>37.000000</td>\n",
       "      <td>1.783560e+05</td>\n",
       "      <td>10.000000</td>\n",
       "      <td>0.000000</td>\n",
       "      <td>0.000000</td>\n",
       "      <td>40.000000</td>\n",
       "    </tr>\n",
       "    <tr>\n",
       "      <th>75%</th>\n",
       "      <td>48.000000</td>\n",
       "      <td>2.370510e+05</td>\n",
       "      <td>12.000000</td>\n",
       "      <td>0.000000</td>\n",
       "      <td>0.000000</td>\n",
       "      <td>45.000000</td>\n",
       "    </tr>\n",
       "    <tr>\n",
       "      <th>max</th>\n",
       "      <td>90.000000</td>\n",
       "      <td>1.484705e+06</td>\n",
       "      <td>16.000000</td>\n",
       "      <td>99999.000000</td>\n",
       "      <td>4356.000000</td>\n",
       "      <td>99.000000</td>\n",
       "    </tr>\n",
       "  </tbody>\n",
       "</table>\n",
       "</div>"
      ],
      "text/plain": [
       "                age        fnlwgt  education.num  capital.gain  capital.loss  \\\n",
       "count  32561.000000  3.256100e+04   32561.000000  32561.000000  32561.000000   \n",
       "mean      38.581647  1.897784e+05      10.080679   1077.648844     87.303830   \n",
       "std       13.640433  1.055500e+05       2.572720   7385.292085    402.960219   \n",
       "min       17.000000  1.228500e+04       1.000000      0.000000      0.000000   \n",
       "25%       28.000000  1.178270e+05       9.000000      0.000000      0.000000   \n",
       "50%       37.000000  1.783560e+05      10.000000      0.000000      0.000000   \n",
       "75%       48.000000  2.370510e+05      12.000000      0.000000      0.000000   \n",
       "max       90.000000  1.484705e+06      16.000000  99999.000000   4356.000000   \n",
       "\n",
       "       hours.per.week  \n",
       "count    32561.000000  \n",
       "mean        40.437456  \n",
       "std         12.347429  \n",
       "min          1.000000  \n",
       "25%         40.000000  \n",
       "50%         40.000000  \n",
       "75%         45.000000  \n",
       "max         99.000000  "
      ]
     },
     "execution_count": 33,
     "metadata": {},
     "output_type": "execute_result"
    }
   ],
   "source": [
    "adult_df.describe()"
   ]
  },
  {
   "cell_type": "markdown",
   "metadata": {},
   "source": [
    "<a id = 'EDA'></a>\n",
    "## Data Exploration and Visualization"
   ]
  },
  {
   "cell_type": "code",
   "execution_count": 34,
   "metadata": {},
   "outputs": [],
   "source": [
    "#Separate categorical and numberical columns\n",
    "cat_col = adult_df.dtypes[adult_df.dtypes == 'object'] # if its type object\n",
    "num_col = adult_df.dtypes[adult_df.dtypes != 'object'] # if its not object"
   ]
  },
  {
   "cell_type": "code",
   "execution_count": 35,
   "metadata": {},
   "outputs": [
    {
     "name": "stdout",
     "output_type": "stream",
     "text": [
      "--------------------Workclass-------------------------\n",
      "                  Total   Percent\n",
      "Private           22696  0.697030\n",
      "Self-emp-not-inc   2541  0.078038\n",
      "Local-gov          2093  0.064279\n",
      "?                  1836  0.056386\n",
      "State-gov          1298  0.039864\n",
      "Self-emp-inc       1116  0.034274\n",
      "Federal-gov         960  0.029483\n",
      "Without-pay          14  0.000430\n",
      "Never-worked          7  0.000215\n",
      "\n",
      "\n",
      "--------------------Education-------------------------\n",
      "              Total   Percent\n",
      "HS-grad       10501  0.322502\n",
      "Some-college   7291  0.223918\n",
      "Bachelors      5355  0.164461\n",
      "Masters        1723  0.052916\n",
      "Assoc-voc      1382  0.042443\n",
      "11th           1175  0.036086\n",
      "Assoc-acdm     1067  0.032769\n",
      "10th            933  0.028654\n",
      "7th-8th         646  0.019840\n",
      "Prof-school     576  0.017690\n",
      "9th             514  0.015786\n",
      "12th            433  0.013298\n",
      "Doctorate       413  0.012684\n",
      "5th-6th         333  0.010227\n",
      "1st-4th         168  0.005160\n",
      "Preschool        51  0.001566\n",
      "\n",
      "\n",
      "--------------------Marital.Status-------------------------\n",
      "                       Total   Percent\n",
      "Married-civ-spouse     14976  0.459937\n",
      "Never-married          10683  0.328092\n",
      "Divorced                4443  0.136452\n",
      "Separated               1025  0.031479\n",
      "Widowed                  993  0.030497\n",
      "Married-spouse-absent    418  0.012837\n",
      "Married-AF-spouse         23  0.000706\n",
      "\n",
      "\n",
      "--------------------Occupation-------------------------\n",
      "                   Total   Percent\n",
      "Prof-specialty      4140  0.127146\n",
      "Craft-repair        4099  0.125887\n",
      "Exec-managerial     4066  0.124873\n",
      "Adm-clerical        3770  0.115783\n",
      "Sales               3650  0.112097\n",
      "Other-service       3295  0.101195\n",
      "Machine-op-inspct   2002  0.061485\n",
      "?                   1843  0.056601\n",
      "Transport-moving    1597  0.049046\n",
      "Handlers-cleaners   1370  0.042075\n",
      "Farming-fishing      994  0.030527\n",
      "Tech-support         928  0.028500\n",
      "Protective-serv      649  0.019932\n",
      "Priv-house-serv      149  0.004576\n",
      "Armed-Forces           9  0.000276\n",
      "\n",
      "\n",
      "--------------------Relationship-------------------------\n",
      "                Total   Percent\n",
      "Husband         13193  0.405178\n",
      "Not-in-family    8305  0.255060\n",
      "Own-child        5068  0.155646\n",
      "Unmarried        3446  0.105832\n",
      "Wife             1568  0.048156\n",
      "Other-relative    981  0.030128\n",
      "\n",
      "\n",
      "--------------------Race-------------------------\n",
      "                    Total   Percent\n",
      "White               27816  0.854274\n",
      "Black                3124  0.095943\n",
      "Asian-Pac-Islander   1039  0.031909\n",
      "Amer-Indian-Eskimo    311  0.009551\n",
      "Other                 271  0.008323\n",
      "\n",
      "\n",
      "--------------------Sex-------------------------\n",
      "        Total   Percent\n",
      "Male    21790  0.669205\n",
      "Female  10771  0.330795\n",
      "\n",
      "\n",
      "--------------------Native.Country-------------------------\n",
      "                            Total   Percent\n",
      "United-States               29170  0.895857\n",
      "Mexico                        643  0.019748\n",
      "?                             583  0.017905\n",
      "Philippines                   198  0.006081\n",
      "Germany                       137  0.004207\n",
      "Canada                        121  0.003716\n",
      "Puerto-Rico                   114  0.003501\n",
      "El-Salvador                   106  0.003255\n",
      "India                         100  0.003071\n",
      "Cuba                           95  0.002918\n",
      "England                        90  0.002764\n",
      "Jamaica                        81  0.002488\n",
      "South                          80  0.002457\n",
      "China                          75  0.002303\n",
      "Italy                          73  0.002242\n",
      "Dominican-Republic             70  0.002150\n",
      "Vietnam                        67  0.002058\n",
      "Guatemala                      64  0.001966\n",
      "Japan                          62  0.001904\n",
      "Poland                         60  0.001843\n",
      "Columbia                       59  0.001812\n",
      "Taiwan                         51  0.001566\n",
      "Haiti                          44  0.001351\n",
      "Iran                           43  0.001321\n",
      "Portugal                       37  0.001136\n",
      "Nicaragua                      34  0.001044\n",
      "Peru                           31  0.000952\n",
      "Greece                         29  0.000891\n",
      "France                         29  0.000891\n",
      "Ecuador                        28  0.000860\n",
      "Ireland                        24  0.000737\n",
      "Hong                           20  0.000614\n",
      "Trinadad&Tobago                19  0.000584\n",
      "Cambodia                       19  0.000584\n",
      "Thailand                       18  0.000553\n",
      "Laos                           18  0.000553\n",
      "Yugoslavia                     16  0.000491\n",
      "Outlying-US(Guam-USVI-etc)     14  0.000430\n",
      "Honduras                       13  0.000399\n",
      "Hungary                        13  0.000399\n",
      "Scotland                       12  0.000369\n",
      "Holand-Netherlands              1  0.000031\n",
      "\n",
      "\n",
      "--------------------Income-------------------------\n",
      "       Total  Percent\n",
      "<=50K  24720  0.75919\n",
      ">50K    7841  0.24081\n",
      "\n",
      "\n"
     ]
    }
   ],
   "source": [
    "for col in list(cat_col.index):\n",
    "    print(f\"--------------------{col.title()}-------------------------\")\n",
    "    total= adult_df[col].value_counts()\n",
    "    percent = adult_df[col].value_counts() / adult_df.shape[0]\n",
    "    df = pd.concat([total,percent],keys = ['Total','Percent'],axis = 1)\n",
    "    print(df)\n",
    "    print('\\n')"
   ]
  },
  {
   "cell_type": "markdown",
   "metadata": {},
   "source": [
    "`native.country ,occupation , workclass` has unknown values represented by `?`."
   ]
  },
  {
   "cell_type": "code",
   "execution_count": 38,
   "metadata": {},
   "outputs": [],
   "source": [
    "edit_cols = ['native.country','occupation','workclass']\n",
    "# Replace '?' with 'unknown'\n",
    "for col in edit_cols:\n",
    "    adult_df.loc[adult_df[col] == '?', col] = 'unknown'"
   ]
  },
  {
   "cell_type": "code",
   "execution_count": 39,
   "metadata": {},
   "outputs": [
    {
     "name": "stdout",
     "output_type": "stream",
     "text": [
      "? in native.country: 0\n",
      "? in occupation: 0\n",
      "? in workclass: 0\n"
     ]
    }
   ],
   "source": [
    "# Check if ? is present\n",
    "for col in edit_cols:\n",
    "    print(f\"? in {col}: {adult_df[(adult_df[col] == '?')].any().sum()}\")"
   ]
  },
  {
   "cell_type": "markdown",
   "metadata": {},
   "source": [
    "Since 9th, 10th, 11th, 12th come under high school grad, group them in one attribute i.e **'HS-Grad'**. Similarly group 1st-4th, 5th-6th,7th-8th in **'Elementary-school'.**"
   ]
  },
  {
   "cell_type": "code",
   "execution_count": 41,
   "metadata": {},
   "outputs": [
    {
     "data": {
      "text/plain": [
       "HS-Grad              13556\n",
       "Some-college          7291\n",
       "Bachelors             5355\n",
       "Masters               1723\n",
       "Assoc-voc             1382\n",
       "Elementary-School     1147\n",
       "Assoc-acdm            1067\n",
       "Prof-school            576\n",
       "Doctorate              413\n",
       "Preschool               51\n",
       "Name: education, dtype: int64"
      ]
     },
     "execution_count": 41,
     "metadata": {},
     "output_type": "execute_result"
    }
   ],
   "source": [
    "hs_grad = ['HS-grad','11th','10th','9th','12th']\n",
    "elementary = ['1st-4th','5th-6th','7th-8th']\n",
    "\n",
    "# replace elements in list.\n",
    "adult_df['education'].replace(to_replace = hs_grad,value = 'HS-Grad',inplace = True)\n",
    "adult_df['education'].replace(to_replace = elementary,value = 'Elementary-School',inplace = True)\n",
    "\n",
    "adult_df['education'].value_counts()"
   ]
  },
  {
   "cell_type": "markdown",
   "metadata": {},
   "source": [
    "Similarly, group categories for `marital-status` into one single to reduce feature complexity."
   ]
  },
  {
   "cell_type": "code",
   "execution_count": 42,
   "metadata": {},
   "outputs": [
    {
     "data": {
      "text/plain": [
       "Married          15417\n",
       "Never-married    10683\n",
       "Separated         5468\n",
       "Widowed            993\n",
       "Name: marital.status, dtype: int64"
      ]
     },
     "execution_count": 42,
     "metadata": {},
     "output_type": "execute_result"
    }
   ],
   "source": [
    "married= ['Married-spouse-absent','Married-civ-spouse','Married-AF-spouse']\n",
    "separated = ['Separated','Divorced']\n",
    "\n",
    "#replace elements in list.\n",
    "adult_df['marital.status'].replace(to_replace = married ,value = 'Married',inplace = True)\n",
    "adult_df['marital.status'].replace(to_replace = separated,value = 'Separated',inplace = True)\n",
    "\n",
    "adult_df['marital.status'].value_counts()"
   ]
  },
  {
   "cell_type": "code",
   "execution_count": 44,
   "metadata": {},
   "outputs": [
    {
     "data": {
      "text/plain": [
       "Private           22696\n",
       "Govt_employees     4351\n",
       "Self_employed      3657\n",
       "unknown            1836\n",
       "Without-pay          14\n",
       "Never-worked          7\n",
       "Name: workclass, dtype: int64"
      ]
     },
     "execution_count": 44,
     "metadata": {},
     "output_type": "execute_result"
    }
   ],
   "source": [
    "self_employed = ['Self-emp-not-inc','Self-emp-inc']\n",
    "govt_employees = ['Local-gov','State-gov','Federal-gov']\n",
    "\n",
    "#replace elements in list.\n",
    "adult_df['workclass'].replace(to_replace = self_employed ,value = 'Self_employed',inplace = True)\n",
    "adult_df['workclass'].replace(to_replace = govt_employees,value = 'Govt_employees',inplace = True)\n",
    "\n",
    "adult_df['workclass'].value_counts()\n",
    "\n"
   ]
  },
  {
   "cell_type": "code",
   "execution_count": 45,
   "metadata": {},
   "outputs": [
    {
     "data": {
      "image/png": "[encoded data removed]",
      "text/plain": [
       "<Figure size 864x432 with 1 Axes>"
      ]
     },
     "metadata": {
      "needs_background": "light"
     },
     "output_type": "display_data"
    }
   ],
   "source": [
    "plt.figure(figsize =(12,6));\n",
    "sns.countplot(x = 'income', data = adult_df);\n",
    "plt.xlabel(\"Income\",fontsize = 12);\n",
    "plt.ylabel(\"Frequency\",fontsize = 12);"
   ]
  },
  {
   "cell_type": "markdown",
   "metadata": {},
   "source": [
    "- Dataset clearly shows nearly 25000 people earn *(less than) <=50K* which are 75% and remainng 25% earns *more than >50K.*\n"
   ]
  },
  {
   "cell_type": "code",
   "execution_count": 51,
   "metadata": {
    "scrolled": false
   },
   "outputs": [
    {
     "data": {
      "image/png": "[encoded data removed]",
      "text/plain": [
       "<Figure size 864x864 with 6 Axes>"
      ]
     },
     "metadata": {
      "needs_background": "light"
     },
     "output_type": "display_data"
    }
   ],
   "source": [
    "adult_df[list(num_col.index)].hist(figsize = (12,12));"
   ]
  },
  {
   "cell_type": "markdown",
   "metadata": {},
   "source": [
    "- `age`: People from age group of **18 to 50** can be seen at a greater extent.\n",
    "- `hours per week`: Generally people can be seen working for **30 hours to 40 hours per week**.\n",
    "- `education`: People above **8th grade** are present in greater numbers.\n",
    "\n",
    "Dataset is highly skewed so it needs to be scaled for better performance.\n"
   ]
  },
  {
   "cell_type": "code",
   "execution_count": 55,
   "metadata": {},
   "outputs": [
    {
     "name": "stdout",
     "output_type": "stream",
     "text": [
      "Number of observations having CAPITAL LOSS above median value: (1519, 15)\n",
      "Number of observations in CAPITAL GAIN dataset above median value: (2712, 15)\n",
      "Percentage of people having capital gain greater than median value: 8.3290%\n",
      "Percentage of people having capital loss greater than median value: 4.6651%\n"
     ]
    }
   ],
   "source": [
    "capital_loss_df = adult_df[adult_df['capital.loss']>0]\n",
    "capital_gain_df = adult_df[adult_df['capital.gain']>0]\n",
    "\n",
    "print(f\"Number of observations having CAPITAL LOSS above median value: {capital_loss_df.shape}\\nNumber of observations in CAPITAL GAIN dataset above median value: {capital_gain_df.shape}\")\n",
    "print(f\"Percentage of people having capital gain greater than median value: {(adult_df.loc[adult_df['capital.gain'] > 0,:].shape[0] / adult_df.shape[0])*100:.4f}%\")\n",
    "print(f\"Percentage of people having capital loss greater than median value: {(adult_df.loc[adult_df['capital.loss'] > 0,:].shape[0] / adult_df.shape[0])*100:.4f}%\")"
   ]
  },
  {
   "cell_type": "code",
   "execution_count": 56,
   "metadata": {},
   "outputs": [
    {
     "name": "stdout",
     "output_type": "stream",
     "text": [
      "      capital.loss  capital.gain\n",
      "402           1977             0\n",
      "837           1887             0\n",
      "116           2392             0\n",
      "1454          1408             0\n",
      "504           1977             0\n",
      "      capital.loss  capital.gain\n",
      "1892             0         15024\n",
      "3656             0          3137\n",
      "2457             0          7688\n",
      "1900             0         15024\n",
      "1943             0         15024\n"
     ]
    }
   ],
   "source": [
    "capital_gain_0= adult_df[adult_df['capital.loss'] > 0].loc[:,['capital.loss','capital.gain']].sample(10)\n",
    "\n",
    "capital_loss_0 = adult_df[adult_df['capital.gain'] > 0].loc[:,['capital.loss','capital.gain']].sample(5)\n",
    "print(capital_gain_0.head())\n",
    "print(capital_loss_0.head())"
   ]
  },
  {
   "cell_type": "markdown",
   "metadata": {},
   "source": [
    "- People are having capital gain equal to zero.\n",
    "\n",
    "Possibilities for capital gain and capital loss\n",
    "\n",
    "- Both capital gain and capital loss can be zero\n",
    "- If capital.gain is zero there is possibility of capital loss being high or above zero.\n",
    "- If capital loss is zero there is possibility of capital.gain being high or above zero."
   ]
  },
  {
   "cell_type": "code",
   "execution_count": 57,
   "metadata": {},
   "outputs": [
    {
     "name": "stdout",
     "output_type": "stream",
     "text": [
      "Number of observations having capital gain and capital loss zero: (28330, 15)\n",
      "================================workclass=================================\n",
      "Private           19982\n",
      "Govt_employees     3714\n",
      "Self_employed      2960\n",
      "unknown            1655\n",
      "Without-pay          12\n",
      "Never-worked          7\n",
      "Name: workclass, dtype: int64\n",
      "================================education=================================\n",
      "HS-Grad              12246\n",
      "Some-college          6533\n",
      "Bachelors             4384\n",
      "Masters               1300\n",
      "Assoc-voc             1194\n",
      "Elementary-School     1049\n",
      "Assoc-acdm             930\n",
      "Prof-school            363\n",
      "Doctorate              284\n",
      "Preschool               47\n",
      "Name: education, dtype: int64\n",
      "================================marital.status=================================\n",
      "Married          12603\n",
      "Never-married     9914\n",
      "Separated         4934\n",
      "Widowed            879\n",
      "Name: marital.status, dtype: int64\n",
      "================================occupation=================================\n",
      "Craft-repair         3593\n",
      "Adm-clerical         3408\n",
      "Prof-specialty       3290\n",
      "Exec-managerial      3219\n",
      "Sales                3138\n",
      "Other-service        3122\n",
      "Machine-op-inspct    1806\n",
      "unknown              1662\n",
      "Transport-moving     1416\n",
      "Handlers-cleaners    1274\n",
      "Farming-fishing       890\n",
      "Tech-support          795\n",
      "Protective-serv       570\n",
      "Priv-house-serv       139\n",
      "Armed-Forces            8\n",
      "Name: occupation, dtype: int64\n",
      "================================relationship=================================\n",
      "Husband           10739\n",
      "Not-in-family      7427\n",
      "Own-child          4810\n",
      "Unmarried          3172\n",
      "Wife               1272\n",
      "Other-relative      910\n",
      "Name: relationship, dtype: int64\n",
      "================================race=================================\n",
      "White                 24061\n",
      "Black                  2839\n",
      "Asian-Pac-Islander      902\n",
      "Amer-Indian-Eskimo      280\n",
      "Other                   248\n",
      "Name: race, dtype: int64\n",
      "================================sex=================================\n",
      "Male      18551\n",
      "Female     9779\n",
      "Name: sex, dtype: int64\n",
      "================================native.country=================================\n",
      "United-States                 25320\n",
      "Mexico                          612\n",
      "unknown                         493\n",
      "Philippines                     174\n",
      "Germany                         117\n",
      "Canada                          103\n",
      "Puerto-Rico                     103\n",
      "El-Salvador                      95\n",
      "Cuba                             85\n",
      "India                            79\n",
      "England                          78\n",
      "Jamaica                          78\n",
      "South                            68\n",
      "Dominican-Republic               67\n",
      "Italy                            65\n",
      "China                            64\n",
      "Guatemala                        60\n",
      "Vietnam                          57\n",
      "Columbia                         55\n",
      "Poland                           53\n",
      "Japan                            51\n",
      "Taiwan                           44\n",
      "Haiti                            42\n",
      "Iran                             35\n",
      "Portugal                         35\n",
      "Nicaragua                        30\n",
      "Peru                             29\n",
      "France                           26\n",
      "Ecuador                          25\n",
      "Ireland                          21\n",
      "Greece                           20\n",
      "Hong                             19\n",
      "Thailand                         18\n",
      "Trinadad&Tobago                  17\n",
      "Laos                             17\n",
      "Yugoslavia                       15\n",
      "Outlying-US(Guam-USVI-etc)       14\n",
      "Cambodia                         14\n",
      "Honduras                         12\n",
      "Scotland                         11\n",
      "Hungary                           9\n",
      "Name: native.country, dtype: int64\n",
      "================================income=================================\n",
      "<=50K    22939\n",
      ">50K      5391\n",
      "Name: income, dtype: int64\n"
     ]
    }
   ],
   "source": [
    "# When capital.gain and capital loss both are zero. As this category of people are more in our dataset.\n",
    "print(f\"Number of observations having capital gain and capital loss zero: {adult_df[(adult_df['capital.loss'] == 0) & (adult_df['capital.gain'] == 0)].shape}\")\n",
    "for col in cat_col.index:\n",
    "    print(f\"================================{col}=================================\")\n",
    "    print(adult_df[(adult_df['capital.loss'] == 0) & (adult_df['capital.gain'] == 0)][col].value_counts())\n",
    "    "
   ]
  },
  {
   "cell_type": "markdown",
   "metadata": {},
   "source": [
    "- So 88% of people in our dataset has capital gain and loss = 0\n",
    "- This concludes capital gain and capital loss are highly skewed features and even have outliers which need to be taken care of.\n",
    "- Workclass contains unknown values."
   ]
  },
  {
   "cell_type": "code",
   "execution_count": 58,
   "metadata": {},
   "outputs": [
    {
     "data": {
      "text/html": [
       "<div>\n",
       "<style scoped>\n",
       "    .dataframe tbody tr th:only-of-type {\n",
       "        vertical-align: middle;\n",
       "    }\n",
       "\n",
       "    .dataframe tbody tr th {\n",
       "        vertical-align: top;\n",
       "    }\n",
       "\n",
       "    .dataframe thead th {\n",
       "        text-align: right;\n",
       "    }\n",
       "</style>\n",
       "<table border=\"1\" class=\"dataframe\">\n",
       "  <thead>\n",
       "    <tr style=\"text-align: right;\">\n",
       "      <th></th>\n",
       "      <th>age</th>\n",
       "      <th>fnlwgt</th>\n",
       "      <th>education.num</th>\n",
       "      <th>capital.gain</th>\n",
       "      <th>capital.loss</th>\n",
       "      <th>hours.per.week</th>\n",
       "    </tr>\n",
       "  </thead>\n",
       "  <tbody>\n",
       "    <tr>\n",
       "      <th>count</th>\n",
       "      <td>2712.000000</td>\n",
       "      <td>2.712000e+03</td>\n",
       "      <td>2712.000000</td>\n",
       "      <td>2712.000000</td>\n",
       "      <td>2712.0</td>\n",
       "      <td>2712.000000</td>\n",
       "    </tr>\n",
       "    <tr>\n",
       "      <th>mean</th>\n",
       "      <td>44.016224</td>\n",
       "      <td>1.880805e+05</td>\n",
       "      <td>11.066003</td>\n",
       "      <td>12938.541298</td>\n",
       "      <td>0.0</td>\n",
       "      <td>43.510324</td>\n",
       "    </tr>\n",
       "    <tr>\n",
       "      <th>std</th>\n",
       "      <td>13.268269</td>\n",
       "      <td>1.033775e+05</td>\n",
       "      <td>2.663273</td>\n",
       "      <td>22395.413530</td>\n",
       "      <td>0.0</td>\n",
       "      <td>12.207654</td>\n",
       "    </tr>\n",
       "    <tr>\n",
       "      <th>min</th>\n",
       "      <td>17.000000</td>\n",
       "      <td>1.930200e+04</td>\n",
       "      <td>1.000000</td>\n",
       "      <td>114.000000</td>\n",
       "      <td>0.0</td>\n",
       "      <td>1.000000</td>\n",
       "    </tr>\n",
       "    <tr>\n",
       "      <th>25%</th>\n",
       "      <td>35.000000</td>\n",
       "      <td>1.180670e+05</td>\n",
       "      <td>9.000000</td>\n",
       "      <td>3411.000000</td>\n",
       "      <td>0.0</td>\n",
       "      <td>40.000000</td>\n",
       "    </tr>\n",
       "    <tr>\n",
       "      <th>50%</th>\n",
       "      <td>43.000000</td>\n",
       "      <td>1.759390e+05</td>\n",
       "      <td>10.000000</td>\n",
       "      <td>7298.000000</td>\n",
       "      <td>0.0</td>\n",
       "      <td>40.000000</td>\n",
       "    </tr>\n",
       "    <tr>\n",
       "      <th>75%</th>\n",
       "      <td>52.000000</td>\n",
       "      <td>2.364735e+05</td>\n",
       "      <td>13.000000</td>\n",
       "      <td>14084.000000</td>\n",
       "      <td>0.0</td>\n",
       "      <td>50.000000</td>\n",
       "    </tr>\n",
       "    <tr>\n",
       "      <th>max</th>\n",
       "      <td>90.000000</td>\n",
       "      <td>1.033222e+06</td>\n",
       "      <td>16.000000</td>\n",
       "      <td>99999.000000</td>\n",
       "      <td>0.0</td>\n",
       "      <td>99.000000</td>\n",
       "    </tr>\n",
       "  </tbody>\n",
       "</table>\n",
       "</div>"
      ],
      "text/plain": [
       "               age        fnlwgt  education.num  capital.gain  capital.loss  \\\n",
       "count  2712.000000  2.712000e+03    2712.000000   2712.000000        2712.0   \n",
       "mean     44.016224  1.880805e+05      11.066003  12938.541298           0.0   \n",
       "std      13.268269  1.033775e+05       2.663273  22395.413530           0.0   \n",
       "min      17.000000  1.930200e+04       1.000000    114.000000           0.0   \n",
       "25%      35.000000  1.180670e+05       9.000000   3411.000000           0.0   \n",
       "50%      43.000000  1.759390e+05      10.000000   7298.000000           0.0   \n",
       "75%      52.000000  2.364735e+05      13.000000  14084.000000           0.0   \n",
       "max      90.000000  1.033222e+06      16.000000  99999.000000           0.0   \n",
       "\n",
       "       hours.per.week  \n",
       "count     2712.000000  \n",
       "mean        43.510324  \n",
       "std         12.207654  \n",
       "min          1.000000  \n",
       "25%         40.000000  \n",
       "50%         40.000000  \n",
       "75%         50.000000  \n",
       "max         99.000000  "
      ]
     },
     "execution_count": 58,
     "metadata": {},
     "output_type": "execute_result"
    }
   ],
   "source": [
    "adult_df.loc[adult_df['capital.gain'] > 0,:].describe()"
   ]
  },
  {
   "cell_type": "markdown",
   "metadata": {},
   "source": [
    "- Maximum value of capital gain is 99999 which is far above 75% quartile range.This is definitely an outlier. Lets try and understand more about this maximum value of 99999."
   ]
  },
  {
   "cell_type": "code",
   "execution_count": 59,
   "metadata": {},
   "outputs": [
    {
     "name": "stdout",
     "output_type": "stream",
     "text": [
      "Number of observations having capital gain of 99999:(159, 15)\n",
      "Income counts: >50K    159\n",
      "Name: income, dtype: int64\n"
     ]
    }
   ],
   "source": [
    "print(f\"Number of observations having capital gain of 99999:{adult_df.loc[adult_df['capital.gain'] == 99999,:].shape}\")\n",
    "print(f\"Income counts: {adult_df.loc[adult_df['capital.gain'] == 99999,:]['income'].value_counts()}\")"
   ]
  },
  {
   "cell_type": "markdown",
   "metadata": {},
   "source": [
    "- So their income is greater than 50K."
   ]
  },
  {
   "cell_type": "code",
   "execution_count": 60,
   "metadata": {},
   "outputs": [
    {
     "data": {
      "text/html": [
       "<div>\n",
       "<style scoped>\n",
       "    .dataframe tbody tr th:only-of-type {\n",
       "        vertical-align: middle;\n",
       "    }\n",
       "\n",
       "    .dataframe tbody tr th {\n",
       "        vertical-align: top;\n",
       "    }\n",
       "\n",
       "    .dataframe thead th {\n",
       "        text-align: right;\n",
       "    }\n",
       "</style>\n",
       "<table border=\"1\" class=\"dataframe\">\n",
       "  <thead>\n",
       "    <tr style=\"text-align: right;\">\n",
       "      <th></th>\n",
       "      <th>age</th>\n",
       "      <th>fnlwgt</th>\n",
       "      <th>education.num</th>\n",
       "      <th>capital.gain</th>\n",
       "      <th>capital.loss</th>\n",
       "      <th>hours.per.week</th>\n",
       "    </tr>\n",
       "  </thead>\n",
       "  <tbody>\n",
       "    <tr>\n",
       "      <th>count</th>\n",
       "      <td>1519.000000</td>\n",
       "      <td>1519.000000</td>\n",
       "      <td>1519.000000</td>\n",
       "      <td>1519.0</td>\n",
       "      <td>1519.000000</td>\n",
       "      <td>1519.000000</td>\n",
       "    </tr>\n",
       "    <tr>\n",
       "      <th>mean</th>\n",
       "      <td>41.697828</td>\n",
       "      <td>185492.941409</td>\n",
       "      <td>10.969059</td>\n",
       "      <td>0.0</td>\n",
       "      <td>1871.428571</td>\n",
       "      <td>43.252798</td>\n",
       "    </tr>\n",
       "    <tr>\n",
       "      <th>std</th>\n",
       "      <td>12.625609</td>\n",
       "      <td>97621.521906</td>\n",
       "      <td>2.688426</td>\n",
       "      <td>0.0</td>\n",
       "      <td>376.571535</td>\n",
       "      <td>12.247258</td>\n",
       "    </tr>\n",
       "    <tr>\n",
       "      <th>min</th>\n",
       "      <td>17.000000</td>\n",
       "      <td>20953.000000</td>\n",
       "      <td>1.000000</td>\n",
       "      <td>0.0</td>\n",
       "      <td>155.000000</td>\n",
       "      <td>1.000000</td>\n",
       "    </tr>\n",
       "    <tr>\n",
       "      <th>25%</th>\n",
       "      <td>32.000000</td>\n",
       "      <td>118854.000000</td>\n",
       "      <td>9.000000</td>\n",
       "      <td>0.0</td>\n",
       "      <td>1672.000000</td>\n",
       "      <td>40.000000</td>\n",
       "    </tr>\n",
       "    <tr>\n",
       "      <th>50%</th>\n",
       "      <td>41.000000</td>\n",
       "      <td>175109.000000</td>\n",
       "      <td>10.000000</td>\n",
       "      <td>0.0</td>\n",
       "      <td>1887.000000</td>\n",
       "      <td>40.000000</td>\n",
       "    </tr>\n",
       "    <tr>\n",
       "      <th>75%</th>\n",
       "      <td>50.000000</td>\n",
       "      <td>228991.500000</td>\n",
       "      <td>13.000000</td>\n",
       "      <td>0.0</td>\n",
       "      <td>1977.000000</td>\n",
       "      <td>50.000000</td>\n",
       "    </tr>\n",
       "    <tr>\n",
       "      <th>max</th>\n",
       "      <td>90.000000</td>\n",
       "      <td>816750.000000</td>\n",
       "      <td>16.000000</td>\n",
       "      <td>0.0</td>\n",
       "      <td>4356.000000</td>\n",
       "      <td>99.000000</td>\n",
       "    </tr>\n",
       "  </tbody>\n",
       "</table>\n",
       "</div>"
      ],
      "text/plain": [
       "               age         fnlwgt  education.num  capital.gain  capital.loss  \\\n",
       "count  1519.000000    1519.000000    1519.000000        1519.0   1519.000000   \n",
       "mean     41.697828  185492.941409      10.969059           0.0   1871.428571   \n",
       "std      12.625609   97621.521906       2.688426           0.0    376.571535   \n",
       "min      17.000000   20953.000000       1.000000           0.0    155.000000   \n",
       "25%      32.000000  118854.000000       9.000000           0.0   1672.000000   \n",
       "50%      41.000000  175109.000000      10.000000           0.0   1887.000000   \n",
       "75%      50.000000  228991.500000      13.000000           0.0   1977.000000   \n",
       "max      90.000000  816750.000000      16.000000           0.0   4356.000000   \n",
       "\n",
       "       hours.per.week  \n",
       "count     1519.000000  \n",
       "mean        43.252798  \n",
       "std         12.247258  \n",
       "min          1.000000  \n",
       "25%         40.000000  \n",
       "50%         40.000000  \n",
       "75%         50.000000  \n",
       "max         99.000000  "
      ]
     },
     "execution_count": 60,
     "metadata": {},
     "output_type": "execute_result"
    }
   ],
   "source": [
    "adult_df.loc[adult_df['capital.loss'] > 0,:].describe()"
   ]
  },
  {
   "cell_type": "code",
   "execution_count": 61,
   "metadata": {},
   "outputs": [
    {
     "name": "stdout",
     "output_type": "stream",
     "text": [
      "Number of observations having capital loss of 4356:(3, 15)\n",
      "\n",
      "Income Distribution among people with capital loss above mean:\n",
      "Income counts:\n",
      ">50K     658\n",
      "<=50K    277\n",
      "Name: income, dtype: int64\n"
     ]
    }
   ],
   "source": [
    "print(f\"Number of observations having capital loss of 4356:{adult_df.loc[adult_df['capital.loss'] == 4356,:].shape}\")\n",
    "print(\"\\nIncome Distribution among people with capital loss above mean:\")\n",
    "print(f\"Income counts:\\n{adult_df.loc[adult_df['capital.loss'] >= 1871,:]['income'].value_counts()}\")"
   ]
  },
  {
   "cell_type": "markdown",
   "metadata": {},
   "source": [
    "- People with Income above 50K are having capital loss above mean value.\n",
    "- It shows there are some other parameters affecting their loss irrespective of high salary."
   ]
  },
  {
   "cell_type": "code",
   "execution_count": 62,
   "metadata": {},
   "outputs": [
    {
     "data": {
      "image/png": "[encoded data removed]",
      "text/plain": [
       "<Figure size 864x864 with 6 Axes>"
      ]
     },
     "metadata": {
      "needs_background": "light"
     },
     "output_type": "display_data"
    }
   ],
   "source": [
    "# Understand characteristics of people having capital loss greater than mean value and having income greater than 50K\n",
    "adult_df[(adult_df['capital.loss'] >= 1871) & (adult_df['income'] == '>50K')].hist(figsize = (12,12));"
   ]
  },
  {
   "cell_type": "markdown",
   "metadata": {},
   "source": [
    "- Education and hours per week are significantaly high.\n",
    "- There are some other factors affecting their loss other than the above.\n"
   ]
  },
  {
   "cell_type": "code",
   "execution_count": 63,
   "metadata": {},
   "outputs": [
    {
     "data": {
      "image/png": "[encoded data removed]",
      "text/plain": [
       "<Figure size 864x864 with 6 Axes>"
      ]
     },
     "metadata": {
      "needs_background": "light"
     },
     "output_type": "display_data"
    }
   ],
   "source": [
    "adult_df.loc[adult_df['capital.gain'] == 99999,:].hist(figsize = (12,12));"
   ]
  },
  {
   "cell_type": "markdown",
   "metadata": {},
   "source": [
    "- Age group and hours per week are fairly distributed for capital gain of 99999."
   ]
  }
 ],
 "metadata": {
  "kernelspec": {
   "display_name": "Python 3",
   "language": "python",
   "name": "python3"
  },
  "language_info": {
   "codemirror_mode": {
    "name": "ipython",
    "version": 3
   },
   "file_extension": ".py",
   "mimetype": "text/x-python",
   "name": "python",
   "nbconvert_exporter": "python",
   "pygments_lexer": "ipython3",
   "version": "3.7.0"
  }
 },
 "nbformat": 4,
 "nbformat_minor": 2
}
